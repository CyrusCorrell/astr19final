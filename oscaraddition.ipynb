{
 "cells": [
  {
   "cell_type": "code",
   "execution_count": 23,
   "id": "3df4fd76-9349-4c05-838b-5b4818f2f87e",
   "metadata": {},
   "outputs": [
    {
     "ename": "ModuleNotFoundError",
     "evalue": "No module named 'scipy'",
     "output_type": "error",
     "traceback": [
      "\u001b[1;31m---------------------------------------------------------------------------\u001b[0m",
      "\u001b[1;31mModuleNotFoundError\u001b[0m                       Traceback (most recent call last)",
      "Cell \u001b[1;32mIn[23], line 4\u001b[0m\n\u001b[0;32m      2\u001b[0m \u001b[38;5;28;01mimport\u001b[39;00m \u001b[38;5;21;01mmatplotlib\u001b[39;00m\u001b[38;5;21;01m.\u001b[39;00m\u001b[38;5;21;01mpyplot\u001b[39;00m \u001b[38;5;28;01mas\u001b[39;00m \u001b[38;5;21;01mplt\u001b[39;00m\n\u001b[0;32m      3\u001b[0m \u001b[38;5;28;01mimport\u001b[39;00m \u001b[38;5;21;01mtensorflow\u001b[39;00m \u001b[38;5;28;01mas\u001b[39;00m \u001b[38;5;21;01mtf\u001b[39;00m\n\u001b[1;32m----> 4\u001b[0m \u001b[38;5;28;01mimport\u001b[39;00m \u001b[38;5;21;01mscipy\u001b[39;00m\u001b[38;5;21;01m.\u001b[39;00m\u001b[38;5;21;01moptimize\u001b[39;00m\n\u001b[0;32m      5\u001b[0m \u001b[38;5;28;01mfrom\u001b[39;00m \u001b[38;5;21;01mscipy\u001b[39;00m\u001b[38;5;21;01m.\u001b[39;00m\u001b[38;5;21;01moptimize\u001b[39;00m \u001b[38;5;28;01mimport\u001b[39;00m curve_fit\n",
      "\u001b[1;31mModuleNotFoundError\u001b[0m: No module named 'scipy'"
     ]
    }
   ],
   "source": [
    "import numpy as np\n",
    "import matplotlib.pyplot as plt\n",
    "import tensorflow as tf\n",
    "import scipy.optimize\n",
    "from scipy.optimize import curve_fit\n"
   ]
  },
  {
   "cell_type": "code",
   "execution_count": 24,
   "id": "98031adb-9f95-4fdb-ac36-14ef0438d3bc",
   "metadata": {},
   "outputs": [],
   "source": [
    "a = np.loadtxt('ASTR19_S22_group_project_data.txt', dtype='str')\n",
    "i=0\n",
    "\n",
    "datetemp=[]\n",
    "timetemp=[]\n",
    "time=[]\n",
    "height=[]\n",
    "date=[]\n",
    "\n",
    "for arr in a: #fix this part\n",
    "\tdatetemp.append(int(arr[0]))\n",
    "\ttimetemp.append(arr[1])\n",
    "\theight.append(float(arr[2]))\n",
    "\n",
    "for elem in timetemp:\n",
    "\tsplitelem=elem.split(':')\n",
    "\tabstime = (int(splitelem[0])*60+int(splitelem[1]))\n",
    "\ttime.append(abstime)\n",
    "\n",
    "\n",
    "for elem in time:\n",
    "\tdate.append(float(datetemp[i]+elem/1440))\n",
    "\ti+=1\n",
    "\n",
    "#LOADS ALL DATA ^^^^ AND CREATES LISTS date[] AND height[] \n",
    "\n",
    "heighterr=0.25 #sets uncertainty error"
   ]
  },
  {
   "cell_type": "code",
   "execution_count": 25,
   "id": "546f10ba-cf45-43b7-b862-659f188d6933",
   "metadata": {},
   "outputs": [
    {
     "ename": "NameError",
     "evalue": "name 'curve_fit' is not defined",
     "output_type": "error",
     "traceback": [
      "\u001b[1;31m---------------------------------------------------------------------------\u001b[0m",
      "\u001b[1;31mNameError\u001b[0m                                 Traceback (most recent call last)",
      "Cell \u001b[1;32mIn[25], line 14\u001b[0m\n\u001b[0;32m     11\u001b[0m date\u001b[38;5;241m=\u001b[39mnp\u001b[38;5;241m.\u001b[39marray(date)\n\u001b[0;32m     12\u001b[0m height\u001b[38;5;241m=\u001b[39mnp\u001b[38;5;241m.\u001b[39marray(height)\n\u001b[1;32m---> 14\u001b[0m params, cov \u001b[38;5;241m=\u001b[39m \u001b[43mcurve_fit\u001b[49m(fittedcurve,date,height,maxfev\u001b[38;5;241m=\u001b[39m\u001b[38;5;241m100000\u001b[39m,p0\u001b[38;5;241m=\u001b[39m[\u001b[38;5;241m9\u001b[39m,\u001b[38;5;241m-\u001b[39m\u001b[38;5;241m1\u001b[39m,\u001b[38;5;241m10\u001b[39m,\u001b[38;5;241m10\u001b[39m,\u001b[38;5;241m10\u001b[39m,\u001b[38;5;241m10\u001b[39m,\u001b[38;5;241m10\u001b[39m,\u001b[38;5;241m10\u001b[39m,\u001b[38;5;241m10\u001b[39m],method\u001b[38;5;241m=\u001b[39m\u001b[38;5;124m'\u001b[39m\u001b[38;5;124mtrf\u001b[39m\u001b[38;5;124m'\u001b[39m,bounds\u001b[38;5;241m=\u001b[39m(\u001b[38;5;241m-\u001b[39m\u001b[38;5;241m100\u001b[39m,\u001b[38;5;241m400\u001b[39m)) \u001b[38;5;66;03m#fits curve to function fittedcurve()\u001b[39;00m\n\u001b[0;32m     15\u001b[0m fv\u001b[38;5;241m=\u001b[39mnp\u001b[38;5;241m.\u001b[39mzeros(\u001b[38;5;28mlen\u001b[39m(params)) \u001b[38;5;66;03m#creates empty array fv[] (fitted values) where each element is the fitted value of a,b,c,d... respective to index\u001b[39;00m\n\u001b[0;32m     16\u001b[0m \u001b[38;5;66;03m#plt.plot(date,fittedcurve(date,2.6,-1,1.4,22.65,1.12,2,1.95,4),alpha=0.2)\u001b[39;00m\n",
      "\u001b[1;31mNameError\u001b[0m: name 'curve_fit' is not defined"
     ]
    }
   ],
   "source": [
    "def fittedcurve(x,a,b,c,d,e,f,g,h,i):\n",
    "    \n",
    "    return a*np.sin(b*np.sin(c*x+d)+i) + e*np.sin(f*x+h)+g\n",
    "    #return (a*np.cos(b*x))*(np.sin(d*x)) + (e*np.sin(f*x))+g\n",
    "    #return np.sin(np.sin(a*x)*x+c)+np.sin(b*x)+d\n",
    "#   return h*np.cos(a*x)*np.sin(b*x+c)+d*np.cos(e*x+f)+g\n",
    "    # return b*np.cos(c*x+d)*e*np.sin(f*x+g)+h*np.sin(i*x+j)+k\n",
    "   # return a*(b*(c*np.sin(d*np.cos(e*x+f)*x+g)+h*np.sin(i*x+j))+k)+l\n",
    "\n",
    "\n",
    "date=np.array(date)\n",
    "height=np.array(height)\n",
    "\n",
    "params, cov = curve_fit(fittedcurve,date,height,maxfev=100000,p0=[9,-1,10,10,10,10,10,10,10],method='trf',bounds=(-100,400)) #fits curve to function fittedcurve()\n",
    "fv=np.zeros(len(params)) #creates empty array fv[] (fitted values) where each element is the fitted value of a,b,c,d... respective to index\n",
    "#plt.plot(date,fittedcurve(date,2.6,-1,1.4,22.65,1.12,2,1.95,4),alpha=0.2)\n",
    "for i in range(len(params)):\n",
    "    fv[i]=params[i]\n",
    "print(fv)\n",
    "\n",
    "\n",
    "fit = fittedcurve(date,*params) #*params unpacks the params[] list generated by curve_fit(), equivalent to: fv[0]*(fv[1]*np.sin(fv[2]*np.cos(fv[3]*x+fv[4])*x+fv[5])+fv[6]*np.sin(fv[7]*x+fv[8]))+fv[9]\n",
    "plt.errorbar(date,height,yerr=heighterr,color='red',alpha=0.8,fmt='o')\n",
    "plt.plot(date,fit,color='black')\n",
    "plt.plot(date,height,color='orange',linestyle='dashed',alpha=0.3)\n",
    "\n",
    "\n",
    "print(np.linalg.cond(cov))\n",
    "np.diag(cov)\n",
    "\n",
    "#create axes and figure instead of doing it this way, work on plot styling^^^\n"
   ]
  },
  {
   "cell_type": "markdown",
   "id": "6e16de03-a363-41f8-9404-cf69a052687e",
   "metadata": {},
   "source": []
  },
  {
   "cell_type": "code",
   "execution_count": 26,
   "id": "0bbae050-db9a-4361-ae72-aaa76d680d72",
   "metadata": {},
   "outputs": [
    {
     "ename": "NameError",
     "evalue": "name 'hight' is not defined",
     "output_type": "error",
     "traceback": [
      "\u001b[1;31m---------------------------------------------------------------------------\u001b[0m",
      "\u001b[1;31mNameError\u001b[0m                                 Traceback (most recent call last)",
      "Cell \u001b[1;32mIn[26], line 6\u001b[0m\n\u001b[0;32m      2\u001b[0m \u001b[38;5;28;01mimport\u001b[39;00m \u001b[38;5;21;01mmatplotlib\u001b[39;00m\u001b[38;5;21;01m.\u001b[39;00m\u001b[38;5;21;01mpyplot\u001b[39;00m \u001b[38;5;28;01mas\u001b[39;00m \u001b[38;5;21;01mplt\u001b[39;00m\n\u001b[0;32m      4\u001b[0m \u001b[38;5;66;03m# Insert your actual x and y data here\u001b[39;00m\n\u001b[0;32m      5\u001b[0m \u001b[38;5;66;03m# For example, replace x_data and y_data with your data\u001b[39;00m\n\u001b[1;32m----> 6\u001b[0m x_data \u001b[38;5;241m=\u001b[39m \u001b[43mhight\u001b[49m(\u001b[38;5;241m0\u001b[39m, \u001b[38;5;241m10\u001b[39m, \u001b[38;5;241m100\u001b[39m)  \u001b[38;5;66;03m# Replace this with your x data\u001b[39;00m\n\u001b[0;32m      7\u001b[0m y_data \u001b[38;5;241m=\u001b[39m \u001b[38;5;241m2\u001b[39m \u001b[38;5;241m*\u001b[39m x_data \u001b[38;5;241m+\u001b[39m \u001b[38;5;241m1\u001b[39m \u001b[38;5;241m+\u001b[39m time(\u001b[38;5;241m0\u001b[39m, \u001b[38;5;241m0.5\u001b[39m, \u001b[38;5;241m100\u001b[39m)  \u001b[38;5;66;03m# Replace this with your y data\u001b[39;00m\n\u001b[0;32m      9\u001b[0m \u001b[38;5;66;03m# Calculate residuals\u001b[39;00m\n",
      "\u001b[1;31mNameError\u001b[0m: name 'hight' is not defined"
     ]
    }
   ],
   "source": [
    "import numpy as np\n",
    "import matplotlib.pyplot as plt\n",
    "\n",
    "# Insert your actual x and y data here\n",
    "# For example, replace x_data and y_data with your data\n",
    "x_data = hight(0, 10, 100)  # Replace this with your x data\n",
    "y_data = 2 * x_data + 1 + time(0, 0.5, 100)  # Replace this with your y data\n",
    "\n",
    "# Calculate residuals\n",
    "residuals_data = y_data - (2 * x_data + 1)\n",
    "\n",
    "# Calculate standard deviation of residuals\n",
    "residuals_std = np.std(residuals_data)\n",
    "\n",
    "# Plot histogram\n",
    "plt.hist(residuals_data, bins='auto', color='blue', alpha=0.7, rwidth=0.85)\n",
    "\n",
    "# Add labels and title\n",
    "plt.title('Residuals Histogram')\n",
    "plt.xlabel('Residuals')\n",
    "plt.ylabel('Frequency')\n",
    "\n",
    "# Add a line indicating the standard deviation\n",
    "plt.axvline(x=residuals_std, color='red', linestyle='dashed', linewidth=2, label=f'Std Dev: {residuals_std:.2f}')\n",
    "\n",
    "# Add legend\n",
    "plt.legend()\n",
    "\n",
    "# Save the plot as a PDF\n",
    "plt.savefig('residuals_histogram.pdf')\n",
    "\n",
    "# Show the plot\n",
    "plt.show()\n",
    "\n"
   ]
  },
  {
   "cell_type": "code",
   "execution_count": null,
   "id": "2e3774b5-3b22-41f4-9962-007ed1f3583b",
   "metadata": {},
   "outputs": [],
   "source": []
  }
 ],
 "metadata": {
  "kernelspec": {
   "display_name": "Python 3 (ipykernel)",
   "language": "python",
   "name": "python3"
  },
  "language_info": {
   "codemirror_mode": {
    "name": "ipython",
    "version": 3
   },
   "file_extension": ".py",
   "mimetype": "text/x-python",
   "name": "python",
   "nbconvert_exporter": "python",
   "pygments_lexer": "ipython3",
   "version": "3.11.5"
  }
 },
 "nbformat": 4,
 "nbformat_minor": 5
}
