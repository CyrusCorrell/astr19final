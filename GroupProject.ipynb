{
 "cells": [
  {
   "cell_type": "code",
   "execution_count": null,
   "id": "3df4fd76-9349-4c05-838b-5b4818f2f87e",
   "metadata": {},
   "outputs": [],
   "source": [
    "import numpy as np\n",
    "import matplotlib.pyplot as plt"
   ]
  },
  {
   "cell_type": "code",
   "execution_count": null,
   "id": "98031adb-9f95-4fdb-ac36-14ef0438d3bc",
   "metadata": {},
   "outputs": [],
   "source": [
    "\n",
    "a = np.loadtxt('ASTR19_S22_group_project_data.txt', dtype='str')#check if the dtype is correct\n",
    "i=0#move this lower\n",
    "\n",
    "datetemp=[]\n",
    "timetemp=[]\n",
    "time=[]\n",
    "height=[]\n",
    "date=[]\n",
    "#optimize these arrays please thanks\n",
    "\n",
    "for arr in a: #fix this part\n",
    "\tdatetemp.append(int(arr[0]))\n",
    "\ttimetemp.append(arr[1])\n",
    "\theight.append(float(arr[2]))\n",
    "\n",
    "for elem in timetemp:\n",
    "\tsplitelem=elem.split(':')\n",
    "\tabstime = (int(splitelem[0])*60+int(splitelem[1]))\n",
    "\ttime.append(abstime)\n",
    "\n",
    "\n",
    "for elem in time:\n",
    "\tdate.append(float(datetemp[i]+elem/1440))\n",
    "\ti+=1"
   ]
  },
  {
   "cell_type": "code",
   "execution_count": null,
   "id": "93b8b9c0-31a4-44ab-ad1b-388cb3a4aa16",
   "metadata": {},
   "outputs": [],
   "source": [
    "fig = plt.figure(figsize=(18,18),linewidth=3)\n",
    "for elem in date:\n",
    "    print(f'{elem:.2f}', end=' ')\n",
    "print(height)\n",
    "plt.plot(date,height)\n",
    "\n",
    "plt.xlabel('date')\n",
    "plt.ylabel('height')"
   ]
  }
 ],
 "metadata": {
  "kernelspec": {
   "display_name": "Python 3 (ipykernel)",
   "language": "python",
   "name": "python3"
  },
  "language_info": {
   "codemirror_mode": {
    "name": "ipython",
    "version": 3
   },
   "file_extension": ".py",
   "mimetype": "text/x-python",
   "name": "python",
   "nbconvert_exporter": "python",
   "pygments_lexer": "ipython3",
   "version": "3.11.5"
  }
 },
 "nbformat": 4,
 "nbformat_minor": 5
}
